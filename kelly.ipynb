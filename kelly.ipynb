import random
import matplotlib.pyplot as plt
import plotly.express as px
import pandas as pd
import plotly.graph_objects as go
import numpy as np

# todo: fix this and see why risk reward of trade doesnt improve the sharpe / vice versa
def getSharpe(equity_array):
    d = {'equity': equity_array}
    df = pd.DataFrame(data=d)
    daily_return = df['equity'].pct_change(1)
#     Sharpe_Ratio = daily_return.mean() / daily_return.std()
#     return (365**0.5)*Sharpe_Ratio

    mean = daily_return.mean() * 365 
    sigma = daily_return.std() * np.sqrt(255)
    return mean / sigma

def getKellyOutput(p,fraction,wl,rangeN,capital):
    rarray = [capital]
    kelly = ((p*wl-(1-p))/wl)*fraction
    for x in range(rangeN):
        if random.randint(1, 10) <=3:
            rarray.append(rarray[len(rarray)-1]+rarray[len(rarray)-1]*(wl*kelly))
        else:
            rarray.append(rarray[len(rarray)-1]*(1-kelly))
    return {'rarray':rarray,"kelly":kelly}


def performKellySim(capital,p,fraction,wl,rangeN,simulation):
    fig = go.Figure()
    for x in range(simulation):
        resultKelly = getKellyOutput(p,fraction,wl,rangeN,capital)
        returns = 100*(resultKelly["rarray"][len(resultKelly["rarray"])-1]-resultKelly["rarray"][0])/resultKelly["rarray"][0]
        fig.add_trace(go.Scatter(go.Scatter(x=np.arange(rangeN), y=resultKelly["rarray"],mode='lines',
                        name=f'kelly {resultKelly["kelly"]*100}| returns {returns} | sharpe {getSharpe(resultKelly["rarray"])}')))
    fig.show()

performKellySim(1000,0.4,0.025,5,300,100)

performKellySim(1000,0.4,0.25,5,300,100)

performKellySim(1000,0.4,0.5,5,300,100)

performKellySim(1000,0.4,1,5,300,100)

performKellySim(1000,0.4,2,5,300,100)
